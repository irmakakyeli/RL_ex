{
 "cells": [
  {
   "cell_type": "code",
   "execution_count": 1,
   "id": "ecdc541a-6aa9-48be-8d92-a01c7f0d3c73",
   "metadata": {
    "scrolled": true
   },
   "outputs": [
    {
     "name": "stdout",
     "output_type": "stream",
     "text": [
      "Requirement already satisfied: gymnasium in c:\\users\\irmak\\anaconda3\\lib\\site-packages (1.1.1)\n",
      "Requirement already satisfied: numpy>=1.21.0 in c:\\users\\irmak\\anaconda3\\lib\\site-packages (from gymnasium) (1.26.4)\n",
      "Requirement already satisfied: cloudpickle>=1.2.0 in c:\\users\\irmak\\anaconda3\\lib\\site-packages (from gymnasium) (3.0.0)\n",
      "Requirement already satisfied: typing-extensions>=4.3.0 in c:\\users\\irmak\\anaconda3\\lib\\site-packages (from gymnasium) (4.11.0)\n",
      "Requirement already satisfied: farama-notifications>=0.0.1 in c:\\users\\irmak\\anaconda3\\lib\\site-packages (from gymnasium) (0.0.4)\n",
      "Collecting stable-baselines3==2.0.0\n",
      "  Using cached stable_baselines3-2.0.0-py3-none-any.whl.metadata (5.4 kB)\n",
      "Collecting gymnasium==0.28.1 (from stable-baselines3==2.0.0)\n",
      "  Using cached gymnasium-0.28.1-py3-none-any.whl.metadata (9.2 kB)\n",
      "Requirement already satisfied: numpy>=1.20 in c:\\users\\irmak\\anaconda3\\lib\\site-packages (from stable-baselines3==2.0.0) (1.26.4)\n",
      "Requirement already satisfied: torch>=1.11 in c:\\users\\irmak\\anaconda3\\lib\\site-packages (from stable-baselines3==2.0.0) (2.6.0+cu118)\n",
      "Requirement already satisfied: cloudpickle in c:\\users\\irmak\\anaconda3\\lib\\site-packages (from stable-baselines3==2.0.0) (3.0.0)\n",
      "Requirement already satisfied: pandas in c:\\users\\irmak\\anaconda3\\lib\\site-packages (from stable-baselines3==2.0.0) (2.2.3)\n",
      "Requirement already satisfied: matplotlib in c:\\users\\irmak\\anaconda3\\lib\\site-packages (from stable-baselines3==2.0.0) (3.9.2)\n",
      "Requirement already satisfied: jax-jumpy>=1.0.0 in c:\\users\\irmak\\anaconda3\\lib\\site-packages (from gymnasium==0.28.1->stable-baselines3==2.0.0) (1.0.0)\n",
      "Requirement already satisfied: typing-extensions>=4.3.0 in c:\\users\\irmak\\anaconda3\\lib\\site-packages (from gymnasium==0.28.1->stable-baselines3==2.0.0) (4.11.0)\n",
      "Requirement already satisfied: farama-notifications>=0.0.1 in c:\\users\\irmak\\anaconda3\\lib\\site-packages (from gymnasium==0.28.1->stable-baselines3==2.0.0) (0.0.4)\n",
      "Requirement already satisfied: filelock in c:\\users\\irmak\\anaconda3\\lib\\site-packages (from torch>=1.11->stable-baselines3==2.0.0) (3.13.1)\n",
      "Requirement already satisfied: networkx in c:\\users\\irmak\\anaconda3\\lib\\site-packages (from torch>=1.11->stable-baselines3==2.0.0) (3.3)\n",
      "Requirement already satisfied: jinja2 in c:\\users\\irmak\\anaconda3\\lib\\site-packages (from torch>=1.11->stable-baselines3==2.0.0) (3.1.4)\n",
      "Requirement already satisfied: fsspec in c:\\users\\irmak\\anaconda3\\lib\\site-packages (from torch>=1.11->stable-baselines3==2.0.0) (2024.6.1)\n",
      "Requirement already satisfied: setuptools in c:\\users\\irmak\\anaconda3\\lib\\site-packages (from torch>=1.11->stable-baselines3==2.0.0) (75.1.0)\n",
      "Requirement already satisfied: sympy==1.13.1 in c:\\users\\irmak\\anaconda3\\lib\\site-packages (from torch>=1.11->stable-baselines3==2.0.0) (1.13.1)\n",
      "Requirement already satisfied: mpmath<1.4,>=1.1.0 in c:\\users\\irmak\\anaconda3\\lib\\site-packages (from sympy==1.13.1->torch>=1.11->stable-baselines3==2.0.0) (1.3.0)\n",
      "Requirement already satisfied: contourpy>=1.0.1 in c:\\users\\irmak\\anaconda3\\lib\\site-packages (from matplotlib->stable-baselines3==2.0.0) (1.2.0)\n",
      "Requirement already satisfied: cycler>=0.10 in c:\\users\\irmak\\anaconda3\\lib\\site-packages (from matplotlib->stable-baselines3==2.0.0) (0.11.0)\n",
      "Requirement already satisfied: fonttools>=4.22.0 in c:\\users\\irmak\\anaconda3\\lib\\site-packages (from matplotlib->stable-baselines3==2.0.0) (4.51.0)\n",
      "Requirement already satisfied: kiwisolver>=1.3.1 in c:\\users\\irmak\\anaconda3\\lib\\site-packages (from matplotlib->stable-baselines3==2.0.0) (1.4.4)\n",
      "Requirement already satisfied: packaging>=20.0 in c:\\users\\irmak\\anaconda3\\lib\\site-packages (from matplotlib->stable-baselines3==2.0.0) (24.1)\n",
      "Requirement already satisfied: pillow>=8 in c:\\users\\irmak\\anaconda3\\lib\\site-packages (from matplotlib->stable-baselines3==2.0.0) (10.4.0)\n",
      "Requirement already satisfied: pyparsing>=2.3.1 in c:\\users\\irmak\\anaconda3\\lib\\site-packages (from matplotlib->stable-baselines3==2.0.0) (3.1.2)\n",
      "Requirement already satisfied: python-dateutil>=2.7 in c:\\users\\irmak\\anaconda3\\lib\\site-packages (from matplotlib->stable-baselines3==2.0.0) (2.9.0.post0)\n",
      "Requirement already satisfied: pytz>=2020.1 in c:\\users\\irmak\\anaconda3\\lib\\site-packages (from pandas->stable-baselines3==2.0.0) (2024.1)\n",
      "Requirement already satisfied: tzdata>=2022.7 in c:\\users\\irmak\\anaconda3\\lib\\site-packages (from pandas->stable-baselines3==2.0.0) (2023.3)\n",
      "Requirement already satisfied: six>=1.5 in c:\\users\\irmak\\anaconda3\\lib\\site-packages (from python-dateutil>=2.7->matplotlib->stable-baselines3==2.0.0) (1.16.0)\n",
      "Requirement already satisfied: MarkupSafe>=2.0 in c:\\users\\irmak\\anaconda3\\lib\\site-packages (from jinja2->torch>=1.11->stable-baselines3==2.0.0) (2.1.3)\n",
      "Using cached stable_baselines3-2.0.0-py3-none-any.whl (178 kB)\n",
      "Using cached gymnasium-0.28.1-py3-none-any.whl (925 kB)\n",
      "Installing collected packages: gymnasium, stable-baselines3\n",
      "  Attempting uninstall: gymnasium\n",
      "    Found existing installation: gymnasium 1.1.1\n",
      "    Uninstalling gymnasium-1.1.1:\n",
      "      Successfully uninstalled gymnasium-1.1.1\n",
      "  Attempting uninstall: stable-baselines3\n",
      "    Found existing installation: stable_baselines3 2.6.0\n",
      "    Uninstalling stable_baselines3-2.6.0:\n",
      "      Successfully uninstalled stable_baselines3-2.6.0\n",
      "Successfully installed gymnasium-0.28.1 stable-baselines3-2.0.0\n"
     ]
    },
    {
     "name": "stderr",
     "output_type": "stream",
     "text": [
      "ERROR: pip's dependency resolver does not currently take into account all the packages that are installed. This behaviour is the source of the following dependency conflicts.\n",
      "sb3-contrib 2.6.0 requires stable_baselines3<3.0,>=2.6.0, but you have stable-baselines3 2.0.0 which is incompatible.\n"
     ]
    },
    {
     "name": "stdout",
     "output_type": "stream",
     "text": [
      "Collecting numpy==1.24.4\n",
      "  Using cached numpy-1.24.4.tar.gz (10.9 MB)\n",
      "  Installing build dependencies: started\n",
      "  Installing build dependencies: finished with status 'done'\n",
      "  Getting requirements to build wheel: started\n",
      "  Getting requirements to build wheel: finished with status 'error'\n"
     ]
    },
    {
     "name": "stderr",
     "output_type": "stream",
     "text": [
      "  error: subprocess-exited-with-error\n",
      "  \n",
      "  Getting requirements to build wheel did not run successfully.\n",
      "  exit code: 1\n",
      "  \n",
      "  [33 lines of output]\n",
      "  Traceback (most recent call last):\n",
      "    File \"C:\\Users\\irmak\\anaconda3\\Lib\\site-packages\\pip\\_vendor\\pyproject_hooks\\_in_process\\_in_process.py\", line 353, in <module>\n",
      "      main()\n",
      "    File \"C:\\Users\\irmak\\anaconda3\\Lib\\site-packages\\pip\\_vendor\\pyproject_hooks\\_in_process\\_in_process.py\", line 335, in main\n",
      "      json_out['return_val'] = hook(**hook_input['kwargs'])\n",
      "                               ^^^^^^^^^^^^^^^^^^^^^^^^^^^^\n",
      "    File \"C:\\Users\\irmak\\anaconda3\\Lib\\site-packages\\pip\\_vendor\\pyproject_hooks\\_in_process\\_in_process.py\", line 112, in get_requires_for_build_wheel\n",
      "      backend = _build_backend()\n",
      "                ^^^^^^^^^^^^^^^^\n",
      "    File \"C:\\Users\\irmak\\anaconda3\\Lib\\site-packages\\pip\\_vendor\\pyproject_hooks\\_in_process\\_in_process.py\", line 77, in _build_backend\n",
      "      obj = import_module(mod_path)\n",
      "            ^^^^^^^^^^^^^^^^^^^^^^^\n",
      "    File \"C:\\Users\\irmak\\anaconda3\\Lib\\importlib\\__init__.py\", line 90, in import_module\n",
      "      return _bootstrap._gcd_import(name[level:], package, level)\n",
      "             ^^^^^^^^^^^^^^^^^^^^^^^^^^^^^^^^^^^^^^^^^^^^^^^^^^^^\n",
      "    File \"<frozen importlib._bootstrap>\", line 1387, in _gcd_import\n",
      "    File \"<frozen importlib._bootstrap>\", line 1360, in _find_and_load\n",
      "    File \"<frozen importlib._bootstrap>\", line 1310, in _find_and_load_unlocked\n",
      "    File \"<frozen importlib._bootstrap>\", line 488, in _call_with_frames_removed\n",
      "    File \"<frozen importlib._bootstrap>\", line 1387, in _gcd_import\n",
      "    File \"<frozen importlib._bootstrap>\", line 1360, in _find_and_load\n",
      "    File \"<frozen importlib._bootstrap>\", line 1331, in _find_and_load_unlocked\n",
      "    File \"<frozen importlib._bootstrap>\", line 935, in _load_unlocked\n",
      "    File \"<frozen importlib._bootstrap_external>\", line 995, in exec_module\n",
      "    File \"<frozen importlib._bootstrap>\", line 488, in _call_with_frames_removed\n",
      "    File \"C:\\Users\\irmak\\AppData\\Local\\Temp\\pip-build-env-_3am7zk8\\overlay\\Lib\\site-packages\\setuptools\\__init__.py\", line 16, in <module>\n",
      "      import setuptools.version\n",
      "    File \"C:\\Users\\irmak\\AppData\\Local\\Temp\\pip-build-env-_3am7zk8\\overlay\\Lib\\site-packages\\setuptools\\version.py\", line 1, in <module>\n",
      "      import pkg_resources\n",
      "    File \"C:\\Users\\irmak\\AppData\\Local\\Temp\\pip-build-env-_3am7zk8\\overlay\\Lib\\site-packages\\pkg_resources\\__init__.py\", line 2172, in <module>\n",
      "      register_finder(pkgutil.ImpImporter, find_on_path)\n",
      "                      ^^^^^^^^^^^^^^^^^^^\n",
      "  AttributeError: module 'pkgutil' has no attribute 'ImpImporter'. Did you mean: 'zipimporter'?\n",
      "  [end of output]\n",
      "  \n",
      "  note: This error originates from a subprocess, and is likely not a problem with pip.\n",
      "error: subprocess-exited-with-error\n",
      "\n",
      "Getting requirements to build wheel did not run successfully.\n",
      "exit code: 1\n",
      "\n",
      "See above for output.\n",
      "\n",
      "note: This error originates from a subprocess, and is likely not a problem with pip.\n"
     ]
    },
    {
     "name": "stdout",
     "output_type": "stream",
     "text": [
      "Requirement already satisfied: swig in c:\\users\\irmak\\anaconda3\\lib\\site-packages (4.3.0)\n"
     ]
    },
    {
     "name": "stderr",
     "output_type": "stream",
     "text": [
      "ERROR: Invalid requirement: '#this': Expected package name at the start of dependency specifier\n",
      "    #this\n",
      "    ^\n"
     ]
    },
    {
     "name": "stdout",
     "output_type": "stream",
     "text": [
      "Requirement already satisfied: tensorflow in c:\\users\\irmak\\anaconda3\\lib\\site-packages (2.19.0)\n",
      "Requirement already satisfied: absl-py>=1.0.0 in c:\\users\\irmak\\anaconda3\\lib\\site-packages (from tensorflow) (2.2.2)\n",
      "Requirement already satisfied: astunparse>=1.6.0 in c:\\users\\irmak\\anaconda3\\lib\\site-packages (from tensorflow) (1.6.3)\n",
      "Requirement already satisfied: flatbuffers>=24.3.25 in c:\\users\\irmak\\anaconda3\\lib\\site-packages (from tensorflow) (25.2.10)\n",
      "Requirement already satisfied: gast!=0.5.0,!=0.5.1,!=0.5.2,>=0.2.1 in c:\\users\\irmak\\anaconda3\\lib\\site-packages (from tensorflow) (0.6.0)\n",
      "Requirement already satisfied: google-pasta>=0.1.1 in c:\\users\\irmak\\anaconda3\\lib\\site-packages (from tensorflow) (0.2.0)\n",
      "Requirement already satisfied: libclang>=13.0.0 in c:\\users\\irmak\\anaconda3\\lib\\site-packages (from tensorflow) (18.1.1)\n",
      "Requirement already satisfied: opt-einsum>=2.3.2 in c:\\users\\irmak\\anaconda3\\lib\\site-packages (from tensorflow) (3.4.0)\n",
      "Requirement already satisfied: packaging in c:\\users\\irmak\\anaconda3\\lib\\site-packages (from tensorflow) (24.1)\n",
      "Requirement already satisfied: protobuf!=4.21.0,!=4.21.1,!=4.21.2,!=4.21.3,!=4.21.4,!=4.21.5,<6.0.0dev,>=3.20.3 in c:\\users\\irmak\\anaconda3\\lib\\site-packages (from tensorflow) (4.25.3)\n",
      "Requirement already satisfied: requests<3,>=2.21.0 in c:\\users\\irmak\\anaconda3\\lib\\site-packages (from tensorflow) (2.32.3)\n",
      "Requirement already satisfied: setuptools in c:\\users\\irmak\\anaconda3\\lib\\site-packages (from tensorflow) (75.1.0)\n",
      "Requirement already satisfied: six>=1.12.0 in c:\\users\\irmak\\anaconda3\\lib\\site-packages (from tensorflow) (1.16.0)\n",
      "Requirement already satisfied: termcolor>=1.1.0 in c:\\users\\irmak\\anaconda3\\lib\\site-packages (from tensorflow) (3.0.1)\n",
      "Requirement already satisfied: typing-extensions>=3.6.6 in c:\\users\\irmak\\anaconda3\\lib\\site-packages (from tensorflow) (4.11.0)\n",
      "Requirement already satisfied: wrapt>=1.11.0 in c:\\users\\irmak\\anaconda3\\lib\\site-packages (from tensorflow) (1.14.1)\n",
      "Requirement already satisfied: grpcio<2.0,>=1.24.3 in c:\\users\\irmak\\anaconda3\\lib\\site-packages (from tensorflow) (1.71.0)\n",
      "Requirement already satisfied: tensorboard~=2.19.0 in c:\\users\\irmak\\anaconda3\\lib\\site-packages (from tensorflow) (2.19.0)\n",
      "Requirement already satisfied: keras>=3.5.0 in c:\\users\\irmak\\anaconda3\\lib\\site-packages (from tensorflow) (3.9.2)\n",
      "Requirement already satisfied: numpy<2.2.0,>=1.26.0 in c:\\users\\irmak\\anaconda3\\lib\\site-packages (from tensorflow) (1.26.4)\n",
      "Requirement already satisfied: h5py>=3.11.0 in c:\\users\\irmak\\anaconda3\\lib\\site-packages (from tensorflow) (3.11.0)\n",
      "Requirement already satisfied: ml-dtypes<1.0.0,>=0.5.1 in c:\\users\\irmak\\anaconda3\\lib\\site-packages (from tensorflow) (0.5.1)\n",
      "Requirement already satisfied: wheel<1.0,>=0.23.0 in c:\\users\\irmak\\anaconda3\\lib\\site-packages (from astunparse>=1.6.0->tensorflow) (0.44.0)\n",
      "Requirement already satisfied: rich in c:\\users\\irmak\\anaconda3\\lib\\site-packages (from keras>=3.5.0->tensorflow) (13.7.1)\n",
      "Requirement already satisfied: namex in c:\\users\\irmak\\anaconda3\\lib\\site-packages (from keras>=3.5.0->tensorflow) (0.0.8)\n",
      "Requirement already satisfied: optree in c:\\users\\irmak\\anaconda3\\lib\\site-packages (from keras>=3.5.0->tensorflow) (0.15.0)\n",
      "Requirement already satisfied: charset-normalizer<4,>=2 in c:\\users\\irmak\\anaconda3\\lib\\site-packages (from requests<3,>=2.21.0->tensorflow) (3.3.2)\n",
      "Requirement already satisfied: idna<4,>=2.5 in c:\\users\\irmak\\anaconda3\\lib\\site-packages (from requests<3,>=2.21.0->tensorflow) (3.7)\n",
      "Requirement already satisfied: urllib3<3,>=1.21.1 in c:\\users\\irmak\\anaconda3\\lib\\site-packages (from requests<3,>=2.21.0->tensorflow) (2.2.3)\n",
      "Requirement already satisfied: certifi>=2017.4.17 in c:\\users\\irmak\\anaconda3\\lib\\site-packages (from requests<3,>=2.21.0->tensorflow) (2025.4.26)\n",
      "Requirement already satisfied: markdown>=2.6.8 in c:\\users\\irmak\\anaconda3\\lib\\site-packages (from tensorboard~=2.19.0->tensorflow) (3.4.1)\n",
      "Requirement already satisfied: tensorboard-data-server<0.8.0,>=0.7.0 in c:\\users\\irmak\\anaconda3\\lib\\site-packages (from tensorboard~=2.19.0->tensorflow) (0.7.2)\n",
      "Requirement already satisfied: werkzeug>=1.0.1 in c:\\users\\irmak\\anaconda3\\lib\\site-packages (from tensorboard~=2.19.0->tensorflow) (3.0.3)\n",
      "Requirement already satisfied: MarkupSafe>=2.1.1 in c:\\users\\irmak\\anaconda3\\lib\\site-packages (from werkzeug>=1.0.1->tensorboard~=2.19.0->tensorflow) (2.1.3)\n",
      "Requirement already satisfied: markdown-it-py>=2.2.0 in c:\\users\\irmak\\anaconda3\\lib\\site-packages (from rich->keras>=3.5.0->tensorflow) (2.2.0)\n",
      "Requirement already satisfied: pygments<3.0.0,>=2.13.0 in c:\\users\\irmak\\anaconda3\\lib\\site-packages (from rich->keras>=3.5.0->tensorflow) (2.15.1)\n",
      "Requirement already satisfied: mdurl~=0.1 in c:\\users\\irmak\\anaconda3\\lib\\site-packages (from markdown-it-py>=2.2.0->rich->keras>=3.5.0->tensorflow) (0.1.0)\n"
     ]
    }
   ],
   "source": [
    "!pip install gymnasium\n",
    "!pip install stable-baselines3==2.0.0 \n",
    "!pip install numpy==1.24.4\n",
    "!pip install swig\n",
    "!pip3 install torch torchvision torchaudio --index-url https://download.pytorch.org/whl/cu118 #this line should change for mac, you can find it on pytorch\n",
    "!pip install tensorflow\n",
    "%load_ext tensorboard\n",
    "import tensorflow as tf\n",
    "import datetime"
   ]
  },
  {
   "cell_type": "code",
   "execution_count": 2,
   "id": "14a4a0f1-c0e2-487a-b1ef-83cae43d1826",
   "metadata": {},
   "outputs": [
    {
     "name": "stderr",
     "output_type": "stream",
     "text": [
      "Cloning into 'boptestGymService'...\n"
     ]
    }
   ],
   "source": [
    "try:\n",
    "  !rm -rf boptestGymService\n",
    "except:\n",
    "  pass\n",
    "!git clone -b boptest-gym-service https://github.com/ibpsa/project1-boptest-gym.git boptestGymService"
   ]
  },
  {
   "cell_type": "code",
   "execution_count": 3,
   "id": "2a9269fd-0c9b-4dfc-84ed-809c8a64b894",
   "metadata": {},
   "outputs": [],
   "source": [
    "import json\n",
    "import sys\n",
    "import numpy as np\n",
    "import requests\n",
    "import gymnasium as gym"
   ]
  },
  {
   "cell_type": "code",
   "execution_count": 4,
   "id": "a58e2720-52a0-4f68-bfc0-6658dcfe8e4c",
   "metadata": {},
   "outputs": [
    {
     "name": "stderr",
     "output_type": "stream",
     "text": [
      "C:\\Users\\irmak\\Documents\\GitHub\\RL_ex\\boptestGymService\\examples\\test_and_plot.py:122: SyntaxWarning: invalid escape sequence '\\c'\n",
      "  axs[0].set_ylabel('Operative\\ntemperature\\n($^\\circ$C)')\n",
      "C:\\Users\\irmak\\Documents\\GitHub\\RL_ex\\boptestGymService\\examples\\test_and_plot.py:131: SyntaxWarning: invalid escape sequence '\\c'\n",
      "  axs[3].set_ylabel('Ambient\\ntemperature\\n($^\\circ$C)')\n",
      "C:\\Users\\irmak\\Documents\\GitHub\\RL_ex\\boptestGymService\\examples\\test_and_plot.py:135: SyntaxWarning: invalid escape sequence '\\d'\n",
      "  axt.plot(x_time, df['weaSta_reaWeaHDirNor_y'], color='gold', linestyle='-', linewidth=1, label='$\\dot{Q}_rad$')\n",
      "C:\\Users\\irmak\\Documents\\GitHub\\RL_ex\\boptestGymService\\examples\\test_and_plot.py:141: SyntaxWarning: invalid escape sequence '\\d'\n",
      "  axs[3].plot([],[], color='gold',        linestyle='-', linewidth=1, label='$\\dot{Q}_{rad}$')\n"
     ]
    }
   ],
   "source": [
    "sys.path.insert(0,'boptestGymService')\n",
    "from boptestGymEnv import BoptestGymEnv\n",
    "\n",
    "# url for the BOPTEST service\n",
    "url = 'https://api.boptest.net'\n",
    "TEST_CASE = \"bestest_hydronic_heat_pump\""
   ]
  },
  {
   "cell_type": "code",
   "execution_count": null,
   "id": "245d5370-9b3c-45e9-be94-d5d92389def1",
   "metadata": {},
   "outputs": [],
   "source": [
    "# Instantiate environment\n",
    "env = BoptestGymEnv(url                   = url,\n",
    "                    testcase              = 'bestest_hydronic_heat_pump',\n",
    "                    actions               = ['oveHeaPumY_u'],\n",
    "                    observations          = {'reaTZon_y':(280.,310.)},\n",
    "                    random_start_time     = False,\n",
    "                    start_time            = 31*24*3600,\n",
    "                    max_episode_length    = 24*3600,\n",
    "                    warmup_period         = 0,\n",
    "                    step_period           = 3600)"
   ]
  },
  {
   "cell_type": "code",
   "execution_count": null,
   "id": "4c57402d-a81d-4abd-8c35-00de8ebe9932",
   "metadata": {
    "scrolled": true
   },
   "outputs": [],
   "source": [
    "env?"
   ]
  },
  {
   "cell_type": "code",
   "execution_count": null,
   "id": "f64178f4-0ec6-44ce-b5fa-57dd42ae6f18",
   "metadata": {},
   "outputs": [],
   "source": [
    "obs, _ = env.reset()\n",
    "print('Zone temperature: {:.2f} degC'.format(obs[0]-273.15))\n",
    "print('Episode starting day: {:.1f} (from beginning of the year)'.format(env.start_time/24/3600))"
   ]
  },
  {
   "cell_type": "code",
   "execution_count": null,
   "id": "00fc6054-84c9-42de-9bce-d0ebba8385ff",
   "metadata": {},
   "outputs": [],
   "source": [
    "print('Observation space of the building environment:')\n",
    "print(env.observation_space)\n",
    "print('Action space of the building environment:')\n",
    "print(env.action_space)"
   ]
  },
  {
   "cell_type": "code",
   "execution_count": null,
   "id": "438ed312-2fbd-4350-9b70-a832300eb0bd",
   "metadata": {
    "scrolled": true
   },
   "outputs": [],
   "source": [
    "print(env)"
   ]
  },
  {
   "cell_type": "code",
   "execution_count": null,
   "id": "c5411f06-d150-4d97-af77-d2d60efbc821",
   "metadata": {},
   "outputs": [],
   "source": [
    "from boptestGymEnv import DiscretizedActionWrapper\n",
    "env = DiscretizedActionWrapper(env,n_bins_act=1)\n",
    "print('Action space of the wrapped agent:')\n",
    "print(env.action_space)\n",
    "print('Action space of the original agent:')\n",
    "print(env.unwrapped.action_space)"
   ]
  },
  {
   "cell_type": "markdown",
   "id": "091b567b-e6e3-4ece-b41e-4ebefb5c8d8b",
   "metadata": {},
   "source": [
    "env.unwrapped.stop()"
   ]
  },
  {
   "cell_type": "code",
   "execution_count": null,
   "id": "205f9076-b956-4e7f-a636-0064909586e7",
   "metadata": {},
   "outputs": [],
   "source": [
    "#env.stop()"
   ]
  },
  {
   "cell_type": "code",
   "execution_count": null,
   "id": "c34dca5a-faec-43d1-81e8-0a6a4739433e",
   "metadata": {},
   "outputs": [],
   "source": [
    "obs, _ = env.reset()"
   ]
  },
  {
   "cell_type": "code",
   "execution_count": null,
   "id": "f2ffa839-3a94-4025-a2f4-970d03bc17c6",
   "metadata": {},
   "outputs": [],
   "source": [
    "class Q_Learning_Agent(object):\n",
    "\n",
    "  def __init__(self, env, eps_min=0.01, eps_decay=0.01, alpha=0.05, gamma=0.9):\n",
    "    '''Constructor of a q-learning agent. Assumes discrete state and action spaces.\n",
    "\n",
    "    '''\n",
    "    self.env       = env\n",
    "    self.eps_min   = eps_min\n",
    "    self.eps_decay = eps_decay\n",
    "    self.alpha     = alpha\n",
    "    self.gamma     = gamma\n",
    "\n",
    "    # Initialize epsilon\n",
    "    self.eps       = 1.0\n",
    "\n",
    "    # Initialize q-function as a null function\n",
    "    self.q = np.zeros((env.observation_space.n,\n",
    "                       env.action_space.n))\n",
    "\n",
    "  def predict(self, obs, deterministic=True):\n",
    "    '''Method to select an action with an epsilon-greedy policy.\n",
    "\n",
    "    '''\n",
    "    if deterministic:\n",
    "      # Use q-function to decide action\n",
    "      return np.argmax(self.q[obs])\n",
    "    else:\n",
    "      if self.eps > self.eps_min:\n",
    "        # Linearly decreasing schedule\n",
    "        self.eps -= self.eps_decay\n",
    "      if np.random.random() < self.eps:\n",
    "        # Explore with random action\n",
    "        return np.random.choice([a for a in range(env.action_space.n)])\n",
    "      else:\n",
    "        # Exploit the information of our q-function\n",
    "        return np.argmax(self.q[obs])\n",
    "\n",
    "  def learn(self, total_episodes=10):\n",
    "    '''Learn from a number of interactions with the environment.\n",
    "\n",
    "    '''\n",
    "    for i in range(total_episodes):\n",
    "      # Initialize enviornment\n",
    "      done = False\n",
    "      obs, _  = env.reset()\n",
    "      # Print episode number and starting day from beginning of the year:\n",
    "      print('-------------------------------------------------------------------')\n",
    "      print('Episode number: {0}, starting day: {1:.1f} ' \\\n",
    "            '(from beginning of the year)'.format(i+1, env.start_time/24/3600))\n",
    "\n",
    "      while not done:\n",
    "        # Get action with epsilon-greedy policy and simulate\n",
    "        act                   = self.predict(obs, deterministic=False)\n",
    "        nxt_obs, rew, terminated, truncated, _ = env.step(act)\n",
    "        done = (terminated or truncated)\n",
    "        # Compute temporal difference target and error to udpate q-function\n",
    "        td_target         = rew + self.gamma*np.max(self.q[nxt_obs])\n",
    "        td_error          = td_target - self.q[obs][act]\n",
    "        self.q[obs][act] += self.alpha*td_error\n",
    "        # Make our next observation the current observation\n",
    "        obs = nxt_obs\n",
    "      # Print the q-function after every episode to show progress\n",
    "      print('q(s,a) = ')\n",
    "      print(self.q)"
   ]
  },
  {
   "cell_type": "code",
   "execution_count": null,
   "id": "bf34ea7e-4dea-46b8-9385-a9535096b526",
   "metadata": {},
   "outputs": [],
   "source": [
    "# Redefine reward function\n",
    "class BoptestGymEnvCustomReward(BoptestGymEnv):\n",
    "    '''Define a custom reward for this building\n",
    "\n",
    "    '''\n",
    "    def get_reward(self):\n",
    "        '''Custom reward function. To expedite learning, we use a clipped reward\n",
    "        function that has a value of 1 when there is no increase in discomfort\n",
    "        and 0 otherwise. We use the BOPTEST `GET /kpis` API call to compute the\n",
    "        total cummulative discomfort from the beginning of the episode. Note\n",
    "        that this is the true value that BOPTEST uses when evaluating\n",
    "        controllers.\n",
    "\n",
    "        '''\n",
    "        # Compute BOPTEST core kpis\n",
    "        kpis = requests.get('{0}/kpi/{1}'.format(self.url, self.testid)).json()['payload']\n",
    "        # Calculate objective integrand function as the total discomfort\n",
    "        objective_integrand = kpis['tdis_tot']\n",
    "        # Give reward if there is not immediate increment in discomfort\n",
    "        if objective_integrand == self.objective_integrand:\n",
    "          reward=1\n",
    "        else:\n",
    "          reward=0\n",
    "        # Record current objective integrand for next evaluation\n",
    "        self.objective_integrand = objective_integrand\n",
    "        return reward"
   ]
  },
  {
   "cell_type": "code",
   "execution_count": null,
   "id": "dfafe708-a47b-469e-8bfb-805e065118d5",
   "metadata": {},
   "outputs": [],
   "source": [
    "env.stop()\n",
    "import random\n",
    "\n",
    "# Seed for random starting times of episodes\n",
    "seed = 123456\n",
    "random.seed(seed)\n",
    "# Seed for random exploration and epsilon-greedy schedule\n",
    "np.random.seed(seed)\n",
    "\n",
    "# Winter period goes from December 21 (day 355) to March 20 (day 79)\n",
    "excluding_periods = [(79*24*3600, 355*24*3600)]\n",
    "# Temperature setpoints\n",
    "lower_setp = 21 + 273.15\n",
    "upper_setp = 24 + 273.15\n",
    "# Instantiate environment\n",
    "env = BoptestGymEnvCustomReward(url                   = url,\n",
    "                                testcase              = 'bestest_hydronic_heat_pump',\n",
    "                                actions               = ['oveHeaPumY_u'],\n",
    "                                observations          = {'reaTZon_y':(lower_setp,upper_setp)},\n",
    "                                random_start_time     = False,\n",
    "                                start_time            = 31*24*3600,\n",
    "                                excluding_periods     = excluding_periods,\n",
    "                                max_episode_length    = 2*24*3600,\n",
    "                                warmup_period         = 24*3600,\n",
    "                                step_period           = 3600,\n",
    "                                render_episodes       = True)"
   ]
  },
  {
   "cell_type": "code",
   "execution_count": null,
   "id": "0b186f8d-7913-43b4-aef9-1769f556e7c0",
   "metadata": {},
   "outputs": [],
   "source": [
    "from boptestGymEnv import DiscretizedObservationWrapper\n",
    "from boptestGymEnv import DiscretizedActionWrapper"
   ]
  },
  {
   "cell_type": "code",
   "execution_count": null,
   "id": "d9b75850-713d-49a0-b5fa-298a865be4d6",
   "metadata": {},
   "outputs": [],
   "source": [
    "env = DiscretizedActionWrapper(env, n_bins_act=1)\n",
    "env = DiscretizedObservationWrapper(env, n_bins_obs=3, outs_are_bins=True)"
   ]
  },
  {
   "cell_type": "code",
   "execution_count": null,
   "id": "b04ba3d3-8f6e-4eb9-8b17-e1e6815bd39d",
   "metadata": {},
   "outputs": [],
   "source": [
    "print('Observation space of the building environment:')\n",
    "print(env.observation_space.sample())\n",
    "print(env.observation_space)\n",
    "print('Action space of the building environment:')\n",
    "print(env.action_space)\n",
    "print(env.action_space.sample())"
   ]
  },
  {
   "cell_type": "code",
   "execution_count": null,
   "id": "2cd00944-b1a7-40b9-8005-d044803daf94",
   "metadata": {},
   "outputs": [],
   "source": [
    "model = Q_Learning_Agent(env, eps_min=0.01, eps_decay=0.001, alpha=0.1, gamma=0.9)"
   ]
  },
  {
   "cell_type": "code",
   "execution_count": null,
   "id": "a3597991-5029-417c-81ca-3c81fb20a031",
   "metadata": {},
   "outputs": [],
   "source": [
    "model.learn(total_episodes=10)"
   ]
  },
  {
   "cell_type": "code",
   "execution_count": null,
   "id": "e59336ef-d6d0-48fc-809b-fc60e9ee6dd9",
   "metadata": {},
   "outputs": [],
   "source": [
    "import matplotlib.pyplot as plt\n",
    "\n",
    "acts   = ['a=0','a=1']\n",
    "stas   = ['T<21', '21<T<24', 'T>24']\n",
    "colors = ['b',    'g',       'r']\n",
    "\n",
    "fig = plt.figure()\n",
    "ax = fig.add_subplot(111, projection='3d')\n",
    "ax.set_xlabel('actions',           labelpad=6,  fontsize=12)\n",
    "ax.set_ylabel('states',            labelpad=10, fontsize=12)\n",
    "ax.set_zlabel('$\\mathbf{q(s,a)}$', labelpad=0,  fontsize=15)\n",
    "plt.xticks(ticks=range(len(acts)), labels=acts)\n",
    "plt.yticks(ticks=range(len(stas)), labels=stas)\n",
    "\n",
    "for i, s in enumerate(stas):\n",
    "  x = np.arange(len(acts))\n",
    "  h = model.q[i,:]\n",
    "\n",
    "  # Set color\n",
    "  color = [colors[i]]*len(acts)\n",
    "\n",
    "  # Plot the 3D bar graph\n",
    "  ax.bar(x, h, zs=i, zdir='y', color=color, alpha=0.8)\n",
    "\n",
    "plt.show()"
   ]
  },
  {
   "cell_type": "code",
   "execution_count": null,
   "id": "cd3c58a7-6f8a-429f-b362-781e3a3b1636",
   "metadata": {},
   "outputs": [],
   "source": [
    "# Compute the state-value function\n",
    "v = np.amax(model.q, axis=1)\n",
    "\n",
    "# Plot state-value function\n",
    "fig = plt.figure()\n",
    "\n",
    "ax = fig.add_subplot(111)\n",
    "ax.set_xlabel('states', labelpad=10, fontsize=12)\n",
    "ax.set_ylabel('$\\mathbf{v(s)}$', labelpad=0,  fontsize=15)\n",
    "plt.xticks(ticks=range(len(stas)), labels=stas)\n",
    "x = np.arange(len(stas))\n",
    "ax.bar(x, v, color=colors, alpha=0.8)\n",
    "plt.show()"
   ]
  },
  {
   "cell_type": "code",
   "execution_count": null,
   "id": "be15d0e0-8c9d-419d-87a2-dc7a5b78eec5",
   "metadata": {},
   "outputs": [],
   "source": [
    "env.stop()\n",
    "env = BoptestGymEnvCustomReward(url                   = url,\n",
    "                                testcase              = 'bestest_hydronic_heat_pump',\n",
    "                                actions               = ['oveHeaPumY_u'],\n",
    "                                observations          = {'reaTZon_y':(lower_setp,upper_setp)},\n",
    "                                random_start_time     = False,\n",
    "                                start_time            = 31*24*3600,\n",
    "                                max_episode_length    = 24*3600,\n",
    "                                warmup_period         = 24*3600,\n",
    "                                step_period           = 3600)\n",
    "env = DiscretizedActionWrapper(env, n_bins_act=1)\n",
    "env = DiscretizedObservationWrapper(env, n_bins_obs=3, outs_are_bins=True)\n",
    "\n",
    "done = False\n",
    "obs, _ = env.reset()\n",
    "\n",
    "from IPython.display import clear_output\n",
    "while not done:\n",
    "  # Clear the display output at each step\n",
    "  clear_output(wait=True)\n",
    "  # Compute control signal\n",
    "  action = model.predict(obs, deterministic=True)\n",
    "  # Print the current operative temperature and decided action\n",
    "  print('-------------------------------------------------------------------')\n",
    "  print('State  [Bin #]  = {:.0f}'.format(obs))\n",
    "  print('Action [ - ]    = {:.0f}'.format(action))\n",
    "  print('-------------------------------------------------------------------')\n",
    "  # Implement action\n",
    "  obs,reward,terminated,truncated,info = env.step(action) # send the action to the environment\n",
    "  done = (terminated or truncated)"
   ]
  },
  {
   "cell_type": "code",
   "execution_count": null,
   "id": "5333a13e-11d1-4e40-bcb6-b46ade18d397",
   "metadata": {},
   "outputs": [],
   "source": [
    "env.get_kpis()"
   ]
  },
  {
   "cell_type": "code",
   "execution_count": null,
   "id": "e59fdd6b-7f04-4ec9-8140-26c0af17dfa8",
   "metadata": {},
   "outputs": [],
   "source": []
  }
 ],
 "metadata": {
  "kernelspec": {
   "display_name": "Python [conda env:base] *",
   "language": "python",
   "name": "conda-base-py"
  },
  "language_info": {
   "codemirror_mode": {
    "name": "ipython",
    "version": 3
   },
   "file_extension": ".py",
   "mimetype": "text/x-python",
   "name": "python",
   "nbconvert_exporter": "python",
   "pygments_lexer": "ipython3",
   "version": "3.12.7"
  }
 },
 "nbformat": 4,
 "nbformat_minor": 5
}
