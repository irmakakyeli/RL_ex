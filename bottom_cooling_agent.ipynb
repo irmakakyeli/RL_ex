{
 "cells": [
  {
   "cell_type": "code",
   "execution_count": 1,
   "id": "6ab18b53-0928-443f-a404-3e5b20360a58",
   "metadata": {
    "scrolled": true
   },
   "outputs": [
    {
     "name": "stdout",
     "output_type": "stream",
     "text": [
      "Requirement already satisfied: stable-baselines3[extra] in c:\\users\\irmak\\anaconda3\\lib\\site-packages (2.6.0)\n",
      "Requirement already satisfied: gymnasium<1.2.0,>=0.29.1 in c:\\users\\irmak\\anaconda3\\lib\\site-packages (from stable-baselines3[extra]) (1.1.1)\n",
      "Requirement already satisfied: numpy<3.0,>=1.20 in c:\\users\\irmak\\anaconda3\\lib\\site-packages (from stable-baselines3[extra]) (1.26.4)\n",
      "Requirement already satisfied: torch<3.0,>=2.3 in c:\\users\\irmak\\anaconda3\\lib\\site-packages (from stable-baselines3[extra]) (2.6.0+cu118)\n",
      "Requirement already satisfied: cloudpickle in c:\\users\\irmak\\anaconda3\\lib\\site-packages (from stable-baselines3[extra]) (3.0.0)\n",
      "Requirement already satisfied: pandas in c:\\users\\irmak\\anaconda3\\lib\\site-packages (from stable-baselines3[extra]) (2.2.3)\n",
      "Requirement already satisfied: matplotlib in c:\\users\\irmak\\anaconda3\\lib\\site-packages (from stable-baselines3[extra]) (3.9.2)\n",
      "Requirement already satisfied: opencv-python in c:\\users\\irmak\\anaconda3\\lib\\site-packages (from stable-baselines3[extra]) (4.11.0.86)\n",
      "Requirement already satisfied: pygame in c:\\users\\irmak\\anaconda3\\lib\\site-packages (from stable-baselines3[extra]) (2.6.1)\n",
      "Requirement already satisfied: tensorboard>=2.9.1 in c:\\users\\irmak\\anaconda3\\lib\\site-packages (from stable-baselines3[extra]) (2.19.0)\n",
      "Requirement already satisfied: psutil in c:\\users\\irmak\\anaconda3\\lib\\site-packages (from stable-baselines3[extra]) (5.9.0)\n",
      "Requirement already satisfied: tqdm in c:\\users\\irmak\\anaconda3\\lib\\site-packages (from stable-baselines3[extra]) (4.66.5)\n",
      "Requirement already satisfied: rich in c:\\users\\irmak\\anaconda3\\lib\\site-packages (from stable-baselines3[extra]) (13.7.1)\n",
      "Requirement already satisfied: ale-py>=0.9.0 in c:\\users\\irmak\\anaconda3\\lib\\site-packages (from stable-baselines3[extra]) (0.10.2)\n",
      "Requirement already satisfied: pillow in c:\\users\\irmak\\anaconda3\\lib\\site-packages (from stable-baselines3[extra]) (10.4.0)\n",
      "Requirement already satisfied: typing-extensions>=4.3.0 in c:\\users\\irmak\\anaconda3\\lib\\site-packages (from gymnasium<1.2.0,>=0.29.1->stable-baselines3[extra]) (4.11.0)\n",
      "Requirement already satisfied: farama-notifications>=0.0.1 in c:\\users\\irmak\\anaconda3\\lib\\site-packages (from gymnasium<1.2.0,>=0.29.1->stable-baselines3[extra]) (0.0.4)\n",
      "Requirement already satisfied: absl-py>=0.4 in c:\\users\\irmak\\anaconda3\\lib\\site-packages (from tensorboard>=2.9.1->stable-baselines3[extra]) (2.2.2)\n",
      "Requirement already satisfied: grpcio>=1.48.2 in c:\\users\\irmak\\anaconda3\\lib\\site-packages (from tensorboard>=2.9.1->stable-baselines3[extra]) (1.71.0)\n",
      "Requirement already satisfied: markdown>=2.6.8 in c:\\users\\irmak\\anaconda3\\lib\\site-packages (from tensorboard>=2.9.1->stable-baselines3[extra]) (3.4.1)\n",
      "Requirement already satisfied: packaging in c:\\users\\irmak\\anaconda3\\lib\\site-packages (from tensorboard>=2.9.1->stable-baselines3[extra]) (24.1)\n",
      "Requirement already satisfied: protobuf!=4.24.0,>=3.19.6 in c:\\users\\irmak\\anaconda3\\lib\\site-packages (from tensorboard>=2.9.1->stable-baselines3[extra]) (4.25.3)\n",
      "Requirement already satisfied: setuptools>=41.0.0 in c:\\users\\irmak\\anaconda3\\lib\\site-packages (from tensorboard>=2.9.1->stable-baselines3[extra]) (75.1.0)\n",
      "Requirement already satisfied: six>1.9 in c:\\users\\irmak\\anaconda3\\lib\\site-packages (from tensorboard>=2.9.1->stable-baselines3[extra]) (1.16.0)\n",
      "Requirement already satisfied: tensorboard-data-server<0.8.0,>=0.7.0 in c:\\users\\irmak\\anaconda3\\lib\\site-packages (from tensorboard>=2.9.1->stable-baselines3[extra]) (0.7.2)\n",
      "Requirement already satisfied: werkzeug>=1.0.1 in c:\\users\\irmak\\anaconda3\\lib\\site-packages (from tensorboard>=2.9.1->stable-baselines3[extra]) (3.0.3)\n",
      "Requirement already satisfied: filelock in c:\\users\\irmak\\anaconda3\\lib\\site-packages (from torch<3.0,>=2.3->stable-baselines3[extra]) (3.13.1)\n",
      "Requirement already satisfied: networkx in c:\\users\\irmak\\anaconda3\\lib\\site-packages (from torch<3.0,>=2.3->stable-baselines3[extra]) (3.3)\n",
      "Requirement already satisfied: jinja2 in c:\\users\\irmak\\anaconda3\\lib\\site-packages (from torch<3.0,>=2.3->stable-baselines3[extra]) (3.1.4)\n",
      "Requirement already satisfied: fsspec in c:\\users\\irmak\\anaconda3\\lib\\site-packages (from torch<3.0,>=2.3->stable-baselines3[extra]) (2024.6.1)\n",
      "Requirement already satisfied: sympy==1.13.1 in c:\\users\\irmak\\anaconda3\\lib\\site-packages (from torch<3.0,>=2.3->stable-baselines3[extra]) (1.13.1)\n",
      "Requirement already satisfied: mpmath<1.4,>=1.1.0 in c:\\users\\irmak\\anaconda3\\lib\\site-packages (from sympy==1.13.1->torch<3.0,>=2.3->stable-baselines3[extra]) (1.3.0)\n",
      "Requirement already satisfied: contourpy>=1.0.1 in c:\\users\\irmak\\anaconda3\\lib\\site-packages (from matplotlib->stable-baselines3[extra]) (1.2.0)\n",
      "Requirement already satisfied: cycler>=0.10 in c:\\users\\irmak\\anaconda3\\lib\\site-packages (from matplotlib->stable-baselines3[extra]) (0.11.0)\n",
      "Requirement already satisfied: fonttools>=4.22.0 in c:\\users\\irmak\\anaconda3\\lib\\site-packages (from matplotlib->stable-baselines3[extra]) (4.51.0)\n",
      "Requirement already satisfied: kiwisolver>=1.3.1 in c:\\users\\irmak\\anaconda3\\lib\\site-packages (from matplotlib->stable-baselines3[extra]) (1.4.4)\n",
      "Requirement already satisfied: pyparsing>=2.3.1 in c:\\users\\irmak\\anaconda3\\lib\\site-packages (from matplotlib->stable-baselines3[extra]) (3.1.2)\n",
      "Requirement already satisfied: python-dateutil>=2.7 in c:\\users\\irmak\\anaconda3\\lib\\site-packages (from matplotlib->stable-baselines3[extra]) (2.9.0.post0)\n",
      "Requirement already satisfied: pytz>=2020.1 in c:\\users\\irmak\\anaconda3\\lib\\site-packages (from pandas->stable-baselines3[extra]) (2024.1)\n",
      "Requirement already satisfied: tzdata>=2022.7 in c:\\users\\irmak\\anaconda3\\lib\\site-packages (from pandas->stable-baselines3[extra]) (2023.3)\n",
      "Requirement already satisfied: markdown-it-py>=2.2.0 in c:\\users\\irmak\\anaconda3\\lib\\site-packages (from rich->stable-baselines3[extra]) (2.2.0)\n",
      "Requirement already satisfied: pygments<3.0.0,>=2.13.0 in c:\\users\\irmak\\anaconda3\\lib\\site-packages (from rich->stable-baselines3[extra]) (2.15.1)\n",
      "Requirement already satisfied: colorama in c:\\users\\irmak\\anaconda3\\lib\\site-packages (from tqdm->stable-baselines3[extra]) (0.4.6)\n",
      "Requirement already satisfied: mdurl~=0.1 in c:\\users\\irmak\\anaconda3\\lib\\site-packages (from markdown-it-py>=2.2.0->rich->stable-baselines3[extra]) (0.1.0)\n",
      "Requirement already satisfied: MarkupSafe>=2.1.1 in c:\\users\\irmak\\anaconda3\\lib\\site-packages (from werkzeug>=1.0.1->tensorboard>=2.9.1->stable-baselines3[extra]) (2.1.3)\n"
     ]
    }
   ],
   "source": [
    "!pip install stable-baselines3[extra]"
   ]
  },
  {
   "cell_type": "markdown",
   "id": "84f55d1d-cd32-4479-ada5-9581fc05c093",
   "metadata": {},
   "source": [
    "try:\n",
    "  !rm -rf boptestGymService\n",
    "except:\n",
    "  pass\n",
    "!git clone -b boptest-gym-service https://github.com/ibpsa/project1-boptest-gym.git boptestGymService"
   ]
  },
  {
   "cell_type": "code",
   "execution_count": 2,
   "id": "fdc34e91-15b8-45a2-bda8-56b49143534b",
   "metadata": {},
   "outputs": [],
   "source": [
    "import requests\n",
    "import sys\n",
    "import torch\n",
    "import gymnasium as gym\n",
    "import os"
   ]
  },
  {
   "cell_type": "code",
   "execution_count": 3,
   "id": "7beb85d8-902a-49ca-bea5-754ab2918d25",
   "metadata": {},
   "outputs": [],
   "source": [
    "sys.path.insert(0,'src/boptestGymService')\n",
    "\n",
    "url = 'http://localhost:80'"
   ]
  },
  {
   "cell_type": "code",
   "execution_count": 4,
   "id": "02f44b54-02f9-4bde-85d0-bf2407f849c4",
   "metadata": {},
   "outputs": [
    {
     "name": "stderr",
     "output_type": "stream",
     "text": [
      "C:\\Users\\irmak\\Documents\\GitHub\\RL_ex\\src/boptestGymService\\examples\\test_and_plot.py:122: SyntaxWarning: invalid escape sequence '\\c'\n",
      "  axs[0].set_ylabel('Operative\\ntemperature\\n($^\\circ$C)')\n",
      "C:\\Users\\irmak\\Documents\\GitHub\\RL_ex\\src/boptestGymService\\examples\\test_and_plot.py:131: SyntaxWarning: invalid escape sequence '\\c'\n",
      "  axs[3].set_ylabel('Ambient\\ntemperature\\n($^\\circ$C)')\n",
      "C:\\Users\\irmak\\Documents\\GitHub\\RL_ex\\src/boptestGymService\\examples\\test_and_plot.py:135: SyntaxWarning: invalid escape sequence '\\d'\n",
      "  axt.plot(x_time, df['weaSta_reaWeaHDirNor_y'], color='gold', linestyle='-', linewidth=1, label='$\\dot{Q}_rad$')\n",
      "C:\\Users\\irmak\\Documents\\GitHub\\RL_ex\\src/boptestGymService\\examples\\test_and_plot.py:141: SyntaxWarning: invalid escape sequence '\\d'\n",
      "  axs[3].plot([],[], color='gold',        linestyle='-', linewidth=1, label='$\\dot{Q}_{rad}$')\n"
     ]
    }
   ],
   "source": [
    "from stable_baselines3 import TD3\n",
    "from stable_baselines3.common.vec_env import DummyVecEnv\n",
    "from stable_baselines3.common.evaluation import evaluate_policy\n",
    "from stable_baselines3.common.callbacks import EvalCallback, StopTrainingOnRewardThreshold\n",
    "from boptestGymService.boptestGymEnv import BoptestGymEnv\n",
    "from boptestGymEnv import DiscretizedActionWrapper\n",
    "from gym.wrappers import FlattenObservation\n",
    "from boptestGymEnv import DiscretizedObservationWrapper"
   ]
  },
  {
   "cell_type": "code",
   "execution_count": 5,
   "id": "92427732-c230-43fa-b9bf-4c3871394b1c",
   "metadata": {},
   "outputs": [],
   "source": [
    "# Redefine reward function\n",
    "class BoptestGymEnvCustomReward(BoptestGymEnv):\n",
    "    def get_reward(self):\n",
    "        '''Custom reward function. We use the BOPTEST `GET /kpis` API call to compute the\n",
    "        total cummulative discomfort from the beginning of the episode. Note\n",
    "        that this is the true value that BOPTEST uses when evaluating\n",
    "        controllers.\n",
    "\n",
    "        'tdis_tot': temp discomfort\n",
    "         'idis_tot': 0,\n",
    "         'ener_tot': total energy\n",
    "         'cost_tot': total cost\n",
    "         'emis_tot': total emission\n",
    "         'pele_tot': defines the HVAC peak electrical demand.\n",
    "         'pgas_tot': defines the HVAC peak gas demand.\n",
    "         'pdih_tot': defines the HVAC peak district heating demand.\n",
    "         'time_rat': defines the average ratio between the controller computation time and the test simulation control step. The controller computation time is measured as the time between two emulator advances\n",
    "        '''\n",
    "        # Compute BOPTEST core kpis\n",
    "        kpis = requests.get('{0}/kpi/{1}'.format(self.url, self.testid)).json()['payload']\n",
    "        # Calculate objective integrand function as the total discomfort\n",
    "        objective_integrand = kpis['tdis_tot']\n",
    "        # Give reward if there is not immediate increment in discomfort\n",
    "        if objective_integrand == self.objective_integrand:\n",
    "          reward=1\n",
    "        else:\n",
    "          reward=0\n",
    "        # Record current objective integrand for next evaluation\n",
    "        self.objective_integrand = objective_integrand\n",
    "        return reward"
   ]
  },
  {
   "cell_type": "code",
   "execution_count": 6,
   "id": "dc5eed2f-ea18-4051-9918-2d35c7d0b4a8",
   "metadata": {},
   "outputs": [],
   "source": [
    "test_case=\"multizone_office_simple_air\""
   ]
  },
  {
   "cell_type": "code",
   "execution_count": 7,
   "id": "9f85ae6c-5d89-4e71-a31f-6bcb0b287b56",
   "metadata": {
    "scrolled": true
   },
   "outputs": [
    {
     "data": {
      "text/plain": [
       "\u001b[1;31mInit signature:\u001b[0m\n",
       "\u001b[0mBoptestGymEnv\u001b[0m\u001b[1;33m(\u001b[0m\u001b[1;33m\n",
       "\u001b[0m    \u001b[0murl\u001b[0m\u001b[1;33m=\u001b[0m\u001b[1;34m'http://127.0.0.1'\u001b[0m\u001b[1;33m,\u001b[0m\u001b[1;33m\n",
       "\u001b[0m    \u001b[0mtestcase\u001b[0m\u001b[1;33m=\u001b[0m\u001b[1;34m'bestest_hydronic_heat_pump'\u001b[0m\u001b[1;33m,\u001b[0m\u001b[1;33m\n",
       "\u001b[0m    \u001b[0mactions\u001b[0m\u001b[1;33m=\u001b[0m\u001b[1;33m[\u001b[0m\u001b[1;34m'oveHeaPumY_u'\u001b[0m\u001b[1;33m]\u001b[0m\u001b[1;33m,\u001b[0m\u001b[1;33m\n",
       "\u001b[0m    \u001b[0mobservations\u001b[0m\u001b[1;33m=\u001b[0m\u001b[1;33m{\u001b[0m\u001b[1;34m'reaTZon_y'\u001b[0m\u001b[1;33m:\u001b[0m \u001b[1;33m(\u001b[0m\u001b[1;36m280.0\u001b[0m\u001b[1;33m,\u001b[0m \u001b[1;36m310.0\u001b[0m\u001b[1;33m)\u001b[0m\u001b[1;33m}\u001b[0m\u001b[1;33m,\u001b[0m\u001b[1;33m\n",
       "\u001b[0m    \u001b[0mreward\u001b[0m\u001b[1;33m=\u001b[0m\u001b[1;33m[\u001b[0m\u001b[1;34m'reward'\u001b[0m\u001b[1;33m]\u001b[0m\u001b[1;33m,\u001b[0m\u001b[1;33m\n",
       "\u001b[0m    \u001b[0mmax_episode_length\u001b[0m\u001b[1;33m=\u001b[0m\u001b[1;36m10800\u001b[0m\u001b[1;33m,\u001b[0m\u001b[1;33m\n",
       "\u001b[0m    \u001b[0mrandom_start_time\u001b[0m\u001b[1;33m=\u001b[0m\u001b[1;32mFalse\u001b[0m\u001b[1;33m,\u001b[0m\u001b[1;33m\n",
       "\u001b[0m    \u001b[0mexcluding_periods\u001b[0m\u001b[1;33m=\u001b[0m\u001b[1;32mNone\u001b[0m\u001b[1;33m,\u001b[0m\u001b[1;33m\n",
       "\u001b[0m    \u001b[0mregressive_period\u001b[0m\u001b[1;33m=\u001b[0m\u001b[1;32mNone\u001b[0m\u001b[1;33m,\u001b[0m\u001b[1;33m\n",
       "\u001b[0m    \u001b[0mpredictive_period\u001b[0m\u001b[1;33m=\u001b[0m\u001b[1;32mNone\u001b[0m\u001b[1;33m,\u001b[0m\u001b[1;33m\n",
       "\u001b[0m    \u001b[0mstart_time\u001b[0m\u001b[1;33m=\u001b[0m\u001b[1;36m0\u001b[0m\u001b[1;33m,\u001b[0m\u001b[1;33m\n",
       "\u001b[0m    \u001b[0mwarmup_period\u001b[0m\u001b[1;33m=\u001b[0m\u001b[1;36m0\u001b[0m\u001b[1;33m,\u001b[0m\u001b[1;33m\n",
       "\u001b[0m    \u001b[0mscenario\u001b[0m\u001b[1;33m=\u001b[0m\u001b[1;33m{\u001b[0m\u001b[1;34m'electricity_price'\u001b[0m\u001b[1;33m:\u001b[0m \u001b[1;34m'constant'\u001b[0m\u001b[1;33m}\u001b[0m\u001b[1;33m,\u001b[0m\u001b[1;33m\n",
       "\u001b[0m    \u001b[0mstep_period\u001b[0m\u001b[1;33m=\u001b[0m\u001b[1;36m900\u001b[0m\u001b[1;33m,\u001b[0m\u001b[1;33m\n",
       "\u001b[0m    \u001b[0mrender_episodes\u001b[0m\u001b[1;33m=\u001b[0m\u001b[1;32mFalse\u001b[0m\u001b[1;33m,\u001b[0m\u001b[1;33m\n",
       "\u001b[0m    \u001b[0mlog_dir\u001b[0m\u001b[1;33m=\u001b[0m\u001b[1;34m'C:\\\\Users\\\\irmak\\\\Documents\\\\GitHub\\\\RL_ex'\u001b[0m\u001b[1;33m,\u001b[0m\u001b[1;33m\n",
       "\u001b[0m\u001b[1;33m)\u001b[0m\u001b[1;33m\u001b[0m\u001b[1;33m\u001b[0m\u001b[0m\n",
       "\u001b[1;31mDocstring:\u001b[0m     \n",
       "BOPTEST Environment that follows gym interface.\n",
       "This environment allows the interaction of RL agents with building\n",
       "emulator models from BOPTEST. \n",
       " \n",
       "\u001b[1;31mInit docstring:\u001b[0m\n",
       "Parameters\n",
       "----------\n",
       "url: string\n",
       "    Rest API url for communication with the BOPTEST interface\n",
       "testcase: string\n",
       "    The string identifier of the testcase\n",
       "actions: list\n",
       "    List of strings indicating the action space. The bounds of \n",
       "    each variable from the action space the are retrieved from \n",
       "    the overwrite block attributes of the BOPTEST test case\n",
       "observations: dictionary\n",
       "    Dictionary mapping observation keys to a tuple with the lower\n",
       "    and upper bound of each observation. Observation keys must \n",
       "    belong either to the set of measurements or to the set of \n",
       "    forecasting variables of the BOPTEST test case. Contrary to \n",
       "    the actions, the expected minimum and maximum values of the \n",
       "    measurement and forecasting variables are not provided from \n",
       "    the BOPTEST framework, although they are still relevant here \n",
       "    e.g. for normalization or discretization. Therefore, these \n",
       "    bounds need to be provided by the user. \n",
       "    If `time` is included as an observation, the time in seconds\n",
       "    will be passed to the agent. This is the remainder time from \n",
       "    the beginning of the episode and for periods of the length\n",
       "    specified in the upper bound of the time feature. \n",
       "reward: list\n",
       "    List with string indicating the reward column name in a replay\n",
       "    buffer of data in case the algorithm is going to use pretraining\n",
       "max_episode_length: integer\n",
       "    Maximum duration of each episode in seconds\n",
       "random_start_time: boolean\n",
       "    Set to True if desired to use a random start time for each episode\n",
       "excluding_periods: list of tuples\n",
       "    List where each element is a tuple indicating the start and \n",
       "    end time of the periods that should not overlap with any \n",
       "    episode used for training. Example:\n",
       "    excluding_periods = [(31*24*3600,  31*24*3600+14*24*3600),\n",
       "                        (304*24*3600, 304*24*3600+14*24*3600)]\n",
       "    This is only used when `random_start_time=True`\n",
       "regressive_period: integer, default is None\n",
       "    Number of seconds for the regressive horizon. The observations\n",
       "    will be extended for each of the measurement variables indicated\n",
       "    in the `observations` dictionary argument. Specifically, a number \n",
       "    of `int(self.regressive_period/self.step_period)` observations per\n",
       "    measurement variable will be included in the observation space.\n",
       "    Each of these observations correspond to the past observation \n",
       "    of the measurement variable `j` steps ago. This is used in partially\n",
       "    observable MDPs to compensate for the hidden states. \n",
       "    Note that it is NOT allowed to use `regressive_period=0` since that\n",
       "    would represent a case where you want to include a measurement at\n",
       "    the current time in the observation space, which is directly done\n",
       "    when adding such measurement to the `observations` argument. \n",
       "predictive_period: integer, default is None\n",
       "    Number of seconds for the prediction horizon. The observations\n",
       "    will be extended for each of the predictive variables indicated\n",
       "    in the `observations` dictionary argument. Specifically, a number\n",
       "    of `int(self.predictive_period/self.step_period)` observations per \n",
       "    predictive variable will be included in the observation space.\n",
       "    Each of these observations correspond to the foresighted \n",
       "    variable `i` steps ahead from the actual observation time. \n",
       "    Note that it's allowed to use `predictive_period=0` when the\n",
       "    intention is to retrieve boundary condition data at the actual\n",
       "    observation time, useful e.g. for temperature setpoints or \n",
       "    ambient temperature. \n",
       "start_time: integer\n",
       "    Initial fixed episode time in seconds from beginning of the \n",
       "    year for each episode. Use in combination with \n",
       "    `random_start_time=False` \n",
       "warmup_period: integer\n",
       "    Desired simulation period to initialize each episode \n",
       "scenario: dictionary\n",
       "    Defines the BOPTEST scenario. Can be `constant`, `dynamic` or\n",
       "    `highly_dynamic`\n",
       "step_period: integer\n",
       "    Sampling time in seconds\n",
       "render_episodes: boolean\n",
       "    True to render every episode\n",
       "log_dir: string    \n",
       "    Directory to store results like plots or KPIs\n",
       "    \n",
       "\u001b[1;31mFile:\u001b[0m           c:\\users\\irmak\\documents\\github\\rl_ex\\boptestgymservice\\boptestgymenv.py\n",
       "\u001b[1;31mType:\u001b[0m           type\n",
       "\u001b[1;31mSubclasses:\u001b[0m     BoptestGymEnvRewardClipping, BoptestGymEnvRewardWeightCost, BoptestGymEnvRewardWeightDiscomfort, BoptestGymEnvVariableEpisodeLength, BoptestGymEnvCustomReward"
      ]
     },
     "metadata": {},
     "output_type": "display_data"
    }
   ],
   "source": [
    "BoptestGymEnv?"
   ]
  },
  {
   "cell_type": "code",
   "execution_count": 8,
   "id": "f5ab01c1-e352-4fd3-9a45-942551e1f818",
   "metadata": {},
   "outputs": [
    {
     "name": "stderr",
     "output_type": "stream",
     "text": [
      "C:\\Users\\irmak\\anaconda3\\Lib\\site-packages\\gymnasium\\spaces\\box.py:235: UserWarning: \u001b[33mWARN: Box low's precision lowered by casting to float32, current low.dtype=float64\u001b[0m\n",
      "  gym.logger.warn(\n",
      "C:\\Users\\irmak\\anaconda3\\Lib\\site-packages\\gymnasium\\spaces\\box.py:305: UserWarning: \u001b[33mWARN: Box high's precision lowered by casting to float32, current high.dtype=float64\u001b[0m\n",
      "  gym.logger.warn(\n"
     ]
    },
    {
     "data": {
      "text/plain": [
       "<Figure size 640x480 with 0 Axes>"
      ]
     },
     "metadata": {},
     "output_type": "display_data"
    }
   ],
   "source": [
    "lower_setp = 21 + 273.15\n",
    "upper_setp = 24 + 273.15\n",
    "\n",
    "env = BoptestGymEnvCustomReward(url                   = url,\n",
    "                    testcase              = test_case,\n",
    "                    actions               = ['hvac_oveZonSupCor_TZonCooSet_u', \n",
    "                                             'hvac_oveZonSupNor_TZonCooSet_u',\n",
    "                                             'hvac_oveZonSupSou_TZonCooSet_u'],\n",
    "                    observations          = {\"hvac_reaZonCor_TZon_y\":(lower_setp, upper_setp),\n",
    "                                             \"hvac_reaZonNor_TZon_y\":(lower_setp, upper_setp),\n",
    "                                             \"hvac_reaZonSou_TZon_y\":(lower_setp, upper_setp)},\n",
    "                    random_start_time     = False,\n",
    "                    start_time            = 154*24*3600,\n",
    "                    max_episode_length    = 24*3600,\n",
    "                    warmup_period         = 24*3600,\n",
    "                    step_period           = 900,\n",
    "                    render_episodes= True)"
   ]
  },
  {
   "cell_type": "code",
   "execution_count": 9,
   "id": "b51756d5-59b9-480e-8754-7d7df001ff08",
   "metadata": {},
   "outputs": [],
   "source": [
    "log_path =os.path.join(\"Training\", \"Boptest\", \"Logs\")\n",
    "TD3_path = os.path.join(\"Training\" , \"Saved Models\", \"TD3_Boptest\")"
   ]
  },
  {
   "cell_type": "code",
   "execution_count": 10,
   "id": "789bbc1e-5017-48bd-886e-53714111411e",
   "metadata": {
    "scrolled": true
   },
   "outputs": [],
   "source": [
    "#env?"
   ]
  },
  {
   "cell_type": "code",
   "execution_count": 11,
   "id": "46c85208-8a60-4412-b0f1-90c4a4c66e58",
   "metadata": {},
   "outputs": [
    {
     "name": "stdout",
     "output_type": "stream",
     "text": [
      "Using cuda device\n",
      "Wrapping the env with a `Monitor` wrapper\n",
      "Wrapping the env in a DummyVecEnv.\n"
     ]
    }
   ],
   "source": [
    "model = TD3('MlpPolicy', env, verbose = 1, learning_rate=0.001, gamma= 0.99, batch_size= 100, policy_delay=2)"
   ]
  },
  {
   "cell_type": "code",
   "execution_count": 12,
   "id": "45acd007-5dcf-4553-b9f4-abc6d9e7a910",
   "metadata": {},
   "outputs": [
    {
     "data": {
      "text/plain": [
       "<stable_baselines3.td3.td3.TD3 at 0x17a3f26bfe0>"
      ]
     },
     "execution_count": 12,
     "metadata": {},
     "output_type": "execute_result"
    }
   ],
   "source": [
    "model.learn(total_timesteps=10)"
   ]
  },
  {
   "cell_type": "code",
   "execution_count": 13,
   "id": "f099745e-02e8-4cc0-be3b-c8c51134f650",
   "metadata": {},
   "outputs": [],
   "source": [
    "model.save(TD3_path)"
   ]
  },
  {
   "cell_type": "code",
   "execution_count": 14,
   "id": "a413be51-f7bb-470e-a481-e4a77605c690",
   "metadata": {},
   "outputs": [
    {
     "name": "stderr",
     "output_type": "stream",
     "text": [
      "C:\\Users\\irmak\\anaconda3\\Lib\\site-packages\\stable_baselines3\\common\\evaluation.py:67: UserWarning: Evaluation environment is not wrapped with a ``Monitor`` wrapper. This may result in reporting modified episode lengths and rewards, if other wrappers happen to modify these. Consider wrapping environment first with ``Monitor`` wrapper.\n",
      "  warnings.warn(\n",
      "C:\\Users\\irmak\\Documents\\GitHub\\RL_ex\\src/boptestGymService\\examples\\test_and_plot.py:122: SyntaxWarning: invalid escape sequence '\\c'\n",
      "  axs[0].set_ylabel('Operative\\ntemperature\\n($^\\circ$C)')\n",
      "C:\\Users\\irmak\\Documents\\GitHub\\RL_ex\\src/boptestGymService\\examples\\test_and_plot.py:131: SyntaxWarning: invalid escape sequence '\\c'\n",
      "  axs[3].set_ylabel('Ambient\\ntemperature\\n($^\\circ$C)')\n",
      "C:\\Users\\irmak\\Documents\\GitHub\\RL_ex\\src/boptestGymService\\examples\\test_and_plot.py:135: SyntaxWarning: invalid escape sequence '\\d'\n",
      "  axt.plot(x_time, df['weaSta_reaWeaHDirNor_y'], color='gold', linestyle='-', linewidth=1, label='$\\dot{Q}_rad$')\n",
      "C:\\Users\\irmak\\Documents\\GitHub\\RL_ex\\src/boptestGymService\\examples\\test_and_plot.py:141: SyntaxWarning: invalid escape sequence '\\d'\n",
      "  axs[3].plot([],[], color='gold',        linestyle='-', linewidth=1, label='$\\dot{Q}_{rad}$')\n"
     ]
    },
    {
     "ename": "KeyError",
     "evalue": "'time'",
     "output_type": "error",
     "traceback": [
      "\u001b[1;31m---------------------------------------------------------------------------\u001b[0m",
      "\u001b[1;31mKeyError\u001b[0m                                  Traceback (most recent call last)",
      "Cell \u001b[1;32mIn[14], line 1\u001b[0m\n\u001b[1;32m----> 1\u001b[0m evaluate_policy(model, env, n_eval_episodes\u001b[38;5;241m=\u001b[39m\u001b[38;5;241m3\u001b[39m)\n",
      "File \u001b[1;32m~\\anaconda3\\Lib\\site-packages\\stable_baselines3\\common\\evaluation.py:94\u001b[0m, in \u001b[0;36mevaluate_policy\u001b[1;34m(model, env, n_eval_episodes, deterministic, render, callback, reward_threshold, return_episode_rewards, warn)\u001b[0m\n\u001b[0;32m     87\u001b[0m \u001b[38;5;28;01mwhile\u001b[39;00m (episode_counts \u001b[38;5;241m<\u001b[39m episode_count_targets)\u001b[38;5;241m.\u001b[39many():\n\u001b[0;32m     88\u001b[0m     actions, states \u001b[38;5;241m=\u001b[39m model\u001b[38;5;241m.\u001b[39mpredict(\n\u001b[0;32m     89\u001b[0m         observations,  \u001b[38;5;66;03m# type: ignore[arg-type]\u001b[39;00m\n\u001b[0;32m     90\u001b[0m         state\u001b[38;5;241m=\u001b[39mstates,\n\u001b[0;32m     91\u001b[0m         episode_start\u001b[38;5;241m=\u001b[39mepisode_starts,\n\u001b[0;32m     92\u001b[0m         deterministic\u001b[38;5;241m=\u001b[39mdeterministic,\n\u001b[0;32m     93\u001b[0m     )\n\u001b[1;32m---> 94\u001b[0m     new_observations, rewards, dones, infos \u001b[38;5;241m=\u001b[39m env\u001b[38;5;241m.\u001b[39mstep(actions)\n\u001b[0;32m     95\u001b[0m     current_rewards \u001b[38;5;241m+\u001b[39m\u001b[38;5;241m=\u001b[39m rewards\n\u001b[0;32m     96\u001b[0m     current_lengths \u001b[38;5;241m+\u001b[39m\u001b[38;5;241m=\u001b[39m \u001b[38;5;241m1\u001b[39m\n",
      "File \u001b[1;32m~\\anaconda3\\Lib\\site-packages\\stable_baselines3\\common\\vec_env\\base_vec_env.py:222\u001b[0m, in \u001b[0;36mVecEnv.step\u001b[1;34m(self, actions)\u001b[0m\n\u001b[0;32m    215\u001b[0m \u001b[38;5;250m\u001b[39m\u001b[38;5;124;03m\"\"\"\u001b[39;00m\n\u001b[0;32m    216\u001b[0m \u001b[38;5;124;03mStep the environments with the given action\u001b[39;00m\n\u001b[0;32m    217\u001b[0m \n\u001b[0;32m    218\u001b[0m \u001b[38;5;124;03m:param actions: the action\u001b[39;00m\n\u001b[0;32m    219\u001b[0m \u001b[38;5;124;03m:return: observation, reward, done, information\u001b[39;00m\n\u001b[0;32m    220\u001b[0m \u001b[38;5;124;03m\"\"\"\u001b[39;00m\n\u001b[0;32m    221\u001b[0m \u001b[38;5;28mself\u001b[39m\u001b[38;5;241m.\u001b[39mstep_async(actions)\n\u001b[1;32m--> 222\u001b[0m \u001b[38;5;28;01mreturn\u001b[39;00m \u001b[38;5;28mself\u001b[39m\u001b[38;5;241m.\u001b[39mstep_wait()\n",
      "File \u001b[1;32m~\\anaconda3\\Lib\\site-packages\\stable_baselines3\\common\\vec_env\\dummy_vec_env.py:59\u001b[0m, in \u001b[0;36mDummyVecEnv.step_wait\u001b[1;34m(self)\u001b[0m\n\u001b[0;32m     56\u001b[0m \u001b[38;5;28;01mdef\u001b[39;00m \u001b[38;5;21mstep_wait\u001b[39m(\u001b[38;5;28mself\u001b[39m) \u001b[38;5;241m-\u001b[39m\u001b[38;5;241m>\u001b[39m VecEnvStepReturn:\n\u001b[0;32m     57\u001b[0m     \u001b[38;5;66;03m# Avoid circular imports\u001b[39;00m\n\u001b[0;32m     58\u001b[0m     \u001b[38;5;28;01mfor\u001b[39;00m env_idx \u001b[38;5;129;01min\u001b[39;00m \u001b[38;5;28mrange\u001b[39m(\u001b[38;5;28mself\u001b[39m\u001b[38;5;241m.\u001b[39mnum_envs):\n\u001b[1;32m---> 59\u001b[0m         obs, \u001b[38;5;28mself\u001b[39m\u001b[38;5;241m.\u001b[39mbuf_rews[env_idx], terminated, truncated, \u001b[38;5;28mself\u001b[39m\u001b[38;5;241m.\u001b[39mbuf_infos[env_idx] \u001b[38;5;241m=\u001b[39m \u001b[38;5;28mself\u001b[39m\u001b[38;5;241m.\u001b[39menvs[env_idx]\u001b[38;5;241m.\u001b[39mstep(  \u001b[38;5;66;03m# type: ignore[assignment]\u001b[39;00m\n\u001b[0;32m     60\u001b[0m             \u001b[38;5;28mself\u001b[39m\u001b[38;5;241m.\u001b[39mactions[env_idx]\n\u001b[0;32m     61\u001b[0m         )\n\u001b[0;32m     62\u001b[0m         \u001b[38;5;66;03m# convert to SB3 VecEnv api\u001b[39;00m\n\u001b[0;32m     63\u001b[0m         \u001b[38;5;28mself\u001b[39m\u001b[38;5;241m.\u001b[39mbuf_dones[env_idx] \u001b[38;5;241m=\u001b[39m terminated \u001b[38;5;129;01mor\u001b[39;00m truncated\n",
      "File \u001b[1;32m~\\Documents\\GitHub\\RL_ex\\boptestGymService\\boptestGymEnv.py:594\u001b[0m, in \u001b[0;36mstep\u001b[1;34m(self, action)\u001b[0m\n",
      "File \u001b[1;32m~\\Documents\\GitHub\\RL_ex\\boptestGymService\\boptestGymEnv.py:614\u001b[0m, in \u001b[0;36mrender\u001b[1;34m(self, mode)\u001b[0m\n",
      "File \u001b[1;32m~\\Documents\\GitHub\\RL_ex\\src/boptestGymService\\examples\\test_and_plot.py:90\u001b[0m, in \u001b[0;36mplot_results\u001b[1;34m(env, rewards, points, log_dir, model_name, save_to_file)\u001b[0m\n\u001b[0;32m     84\u001b[0m res \u001b[38;5;241m=\u001b[39m requests\u001b[38;5;241m.\u001b[39mput(\u001b[38;5;124m'\u001b[39m\u001b[38;5;132;01m{0}\u001b[39;00m\u001b[38;5;124m/results/\u001b[39m\u001b[38;5;132;01m{1}\u001b[39;00m\u001b[38;5;124m'\u001b[39m\u001b[38;5;241m.\u001b[39mformat(env\u001b[38;5;241m.\u001b[39murl, env\u001b[38;5;241m.\u001b[39mtestid), \n\u001b[0;32m     85\u001b[0m                     json\u001b[38;5;241m=\u001b[39m{\u001b[38;5;124m'\u001b[39m\u001b[38;5;124mpoint_names\u001b[39m\u001b[38;5;124m'\u001b[39m:points,\n\u001b[0;32m     86\u001b[0m                           \u001b[38;5;124m'\u001b[39m\u001b[38;5;124mstart_time\u001b[39m\u001b[38;5;124m'\u001b[39m:env\u001b[38;5;241m.\u001b[39mstart_time\u001b[38;5;241m+\u001b[39m\u001b[38;5;241m1\u001b[39m, \n\u001b[0;32m     87\u001b[0m                           \u001b[38;5;124m'\u001b[39m\u001b[38;5;124mfinal_time\u001b[39m\u001b[38;5;124m'\u001b[39m:\u001b[38;5;241m3.1536e7\u001b[39m})\u001b[38;5;241m.\u001b[39mjson()[\u001b[38;5;124m'\u001b[39m\u001b[38;5;124mpayload\u001b[39m\u001b[38;5;124m'\u001b[39m]\n\u001b[0;32m     89\u001b[0m df \u001b[38;5;241m=\u001b[39m pd\u001b[38;5;241m.\u001b[39mDataFrame(res)\n\u001b[1;32m---> 90\u001b[0m df \u001b[38;5;241m=\u001b[39m create_datetime_index(df)\n\u001b[0;32m     91\u001b[0m df\u001b[38;5;241m.\u001b[39mdropna(axis\u001b[38;5;241m=\u001b[39m\u001b[38;5;241m0\u001b[39m, inplace\u001b[38;5;241m=\u001b[39m\u001b[38;5;28;01mTrue\u001b[39;00m)\n\u001b[0;32m     92\u001b[0m scenario \u001b[38;5;241m=\u001b[39m env\u001b[38;5;241m.\u001b[39mscenario\n",
      "File \u001b[1;32m~\\Documents\\GitHub\\RL_ex\\src/boptestGymService\\examples\\test_and_plot.py:196\u001b[0m, in \u001b[0;36mcreate_datetime_index\u001b[1;34m(df)\u001b[0m\n\u001b[0;32m    190\u001b[0m \u001b[38;5;250m\u001b[39m\u001b[38;5;124;03m'''\u001b[39;00m\n\u001b[0;32m    191\u001b[0m \u001b[38;5;124;03mCreate a datetime index for the data\u001b[39;00m\n\u001b[0;32m    192\u001b[0m \u001b[38;5;124;03m\u001b[39;00m\n\u001b[0;32m    193\u001b[0m \u001b[38;5;124;03m'''\u001b[39;00m\n\u001b[0;32m    195\u001b[0m datetime \u001b[38;5;241m=\u001b[39m []\n\u001b[1;32m--> 196\u001b[0m \u001b[38;5;28;01mfor\u001b[39;00m t \u001b[38;5;129;01min\u001b[39;00m df[\u001b[38;5;124m'\u001b[39m\u001b[38;5;124mtime\u001b[39m\u001b[38;5;124m'\u001b[39m]:\n\u001b[0;32m    197\u001b[0m     datetime\u001b[38;5;241m.\u001b[39mappend(pd\u001b[38;5;241m.\u001b[39mTimestamp(\u001b[38;5;124m'\u001b[39m\u001b[38;5;124m2023/1/1\u001b[39m\u001b[38;5;124m'\u001b[39m) \u001b[38;5;241m+\u001b[39m pd\u001b[38;5;241m.\u001b[39mTimedelta(t,\u001b[38;5;124m'\u001b[39m\u001b[38;5;124ms\u001b[39m\u001b[38;5;124m'\u001b[39m))\n\u001b[0;32m    198\u001b[0m df[\u001b[38;5;124m'\u001b[39m\u001b[38;5;124mdatetime\u001b[39m\u001b[38;5;124m'\u001b[39m] \u001b[38;5;241m=\u001b[39m datetime\n",
      "File \u001b[1;32m~\\anaconda3\\Lib\\site-packages\\pandas\\core\\frame.py:4102\u001b[0m, in \u001b[0;36mDataFrame.__getitem__\u001b[1;34m(self, key)\u001b[0m\n\u001b[0;32m   4100\u001b[0m \u001b[38;5;28;01mif\u001b[39;00m \u001b[38;5;28mself\u001b[39m\u001b[38;5;241m.\u001b[39mcolumns\u001b[38;5;241m.\u001b[39mnlevels \u001b[38;5;241m>\u001b[39m \u001b[38;5;241m1\u001b[39m:\n\u001b[0;32m   4101\u001b[0m     \u001b[38;5;28;01mreturn\u001b[39;00m \u001b[38;5;28mself\u001b[39m\u001b[38;5;241m.\u001b[39m_getitem_multilevel(key)\n\u001b[1;32m-> 4102\u001b[0m indexer \u001b[38;5;241m=\u001b[39m \u001b[38;5;28mself\u001b[39m\u001b[38;5;241m.\u001b[39mcolumns\u001b[38;5;241m.\u001b[39mget_loc(key)\n\u001b[0;32m   4103\u001b[0m \u001b[38;5;28;01mif\u001b[39;00m is_integer(indexer):\n\u001b[0;32m   4104\u001b[0m     indexer \u001b[38;5;241m=\u001b[39m [indexer]\n",
      "File \u001b[1;32m~\\anaconda3\\Lib\\site-packages\\pandas\\core\\indexes\\range.py:417\u001b[0m, in \u001b[0;36mRangeIndex.get_loc\u001b[1;34m(self, key)\u001b[0m\n\u001b[0;32m    415\u001b[0m         \u001b[38;5;28;01mraise\u001b[39;00m \u001b[38;5;167;01mKeyError\u001b[39;00m(key) \u001b[38;5;28;01mfrom\u001b[39;00m \u001b[38;5;21;01merr\u001b[39;00m\n\u001b[0;32m    416\u001b[0m \u001b[38;5;28;01mif\u001b[39;00m \u001b[38;5;28misinstance\u001b[39m(key, Hashable):\n\u001b[1;32m--> 417\u001b[0m     \u001b[38;5;28;01mraise\u001b[39;00m \u001b[38;5;167;01mKeyError\u001b[39;00m(key)\n\u001b[0;32m    418\u001b[0m \u001b[38;5;28mself\u001b[39m\u001b[38;5;241m.\u001b[39m_check_indexing_error(key)\n\u001b[0;32m    419\u001b[0m \u001b[38;5;28;01mraise\u001b[39;00m \u001b[38;5;167;01mKeyError\u001b[39;00m(key)\n",
      "\u001b[1;31mKeyError\u001b[0m: 'time'"
     ]
    },
    {
     "data": {
      "text/plain": [
       "<Figure size 640x480 with 0 Axes>"
      ]
     },
     "metadata": {},
     "output_type": "display_data"
    }
   ],
   "source": [
    "evaluate_policy(model, env, n_eval_episodes=3)"
   ]
  },
  {
   "cell_type": "code",
   "execution_count": 15,
   "id": "74e7a3c7-f1d7-4ae1-905a-b6cc6f38a55c",
   "metadata": {},
   "outputs": [],
   "source": [
    "env.stop()"
   ]
  },
  {
   "cell_type": "code",
   "execution_count": null,
   "id": "14544267-8fac-4445-9785-542e77e9d224",
   "metadata": {},
   "outputs": [],
   "source": []
  }
 ],
 "metadata": {
  "kernelspec": {
   "display_name": "Python 3 (ipykernel)",
   "language": "python",
   "name": "python3"
  },
  "language_info": {
   "codemirror_mode": {
    "name": "ipython",
    "version": 3
   },
   "file_extension": ".py",
   "mimetype": "text/x-python",
   "name": "python",
   "nbconvert_exporter": "python",
   "pygments_lexer": "ipython3",
   "version": "3.12.7"
  }
 },
 "nbformat": 4,
 "nbformat_minor": 5
}
